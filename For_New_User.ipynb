{
 "cells": [
  {
   "cell_type": "code",
   "execution_count": 5,
   "id": "621fc626-19a3-4d17-bb3d-6a7f1aa9bf5e",
   "metadata": {},
   "outputs": [
    {
     "name": "stdin",
     "output_type": "stream",
     "text": [
      "Enter your age (years):  20\n",
      "Enter your average daily steps:  7000\n",
      "Enter your average sleep hours per night:  6\n",
      "Enter your resting heart rate (bpm):  75\n",
      "Enter your daily calorie balance (calories consumed - calories burned):  -200\n",
      "Enter your gender (Male/Female):  Male\n"
     ]
    },
    {
     "name": "stdout",
     "output_type": "stream",
     "text": [
      "Predicted Fitness Level: Needs Improvement\n",
      "\n",
      "Personalized Recommendation:\n",
      "Your health indicators suggest that some lifestyle changes are needed.\n",
      "🚨 Low activity and high resting heart rate could raise health risks.\n",
      "💡 Start small: 15–30 min walks daily, sleep before midnight, drink more water.\n",
      "🛌 Prioritize consistent sleep and reduce screen time before bed.\n",
      "🥦 Try tracking food intake for a week to evaluate calorie balance.\n"
     ]
    },
    {
     "name": "stderr",
     "output_type": "stream",
     "text": [
      "C:\\Users\\krish\\anaconda3\\Lib\\site-packages\\sklearn\\base.py:493: UserWarning: X does not have valid feature names, but StandardScaler was fitted with feature names\n",
      "  warnings.warn(\n"
     ]
    }
   ],
   "source": [
    "import numpy as np\n",
    "import joblib\n",
    "\n",
    "# Load the saved model and scaler\n",
    "clf = joblib.load('fitness_classifier.pkl')\n",
    "scaler = joblib.load('scaler.pkl')\n",
    "\n",
    "# Define your label mapping\n",
    "label_map = {0: 'Fit', 1: 'Average', 2: 'Needs Improvement'}\n",
    "\n",
    "# Recommendations dictionary\n",
    "recommendations = {\n",
    "    'Fit': \"\"\"Great job! Your current health and activity data indicate a high fitness level.\n",
    "✅ Continue maintaining a balanced lifestyle.\n",
    "🏃 Try adding variety to your workouts (HIIT, strength, flexibility).\n",
    "🧘 Focus on recovery, mobility, and sleep quality.\n",
    "📊 Consider tracking performance goals or entering fitness challenges.\"\"\",\n",
    "\n",
    "    'Average': \"\"\"You're doing okay, but there's room for improvement.\n",
    "🚶 Aim to increase your daily steps gradually (e.g., add 1,000 steps/week).\n",
    "💤 Try to sleep at least 7–8 hours consistently.\n",
    "❤️ Monitor your resting heart rate — a lower value over time indicates improvement.\n",
    "🍎 Focus on a balanced diet and consider light cardio exercises 3–4x per week.\"\"\",\n",
    "\n",
    "    'Needs Improvement': \"\"\"Your health indicators suggest that some lifestyle changes are needed.\n",
    "🚨 Low activity and high resting heart rate could raise health risks.\n",
    "💡 Start small: 15–30 min walks daily, sleep before midnight, drink more water.\n",
    "🛌 Prioritize consistent sleep and reduce screen time before bed.\n",
    "🥦 Try tracking food intake for a week to evaluate calorie balance.\"\"\"\n",
    "}\n",
    "\n",
    "age = int(input(\"Enter your age (years): \"))\n",
    "daily_steps = int(input(\"Enter your average daily steps: \"))\n",
    "sleep_hours = float(input(\"Enter your average sleep hours per night: \"))\n",
    "resting_hr = int(input(\"Enter your resting heart rate (bpm): \"))\n",
    "calorie_balance = int(input(\"Enter your daily calorie balance (calories consumed - calories burned): \"))\n",
    "\n",
    "gender = \"\"\n",
    "while gender not in ['Male', 'Female']:\n",
    "    gender = input(\"Enter your gender (Male/Female): \").strip().title()\n",
    "    \n",
    "# Encode gender for model input\n",
    "gender_female = 0 if gender == 'Female' else 1\n",
    "\n",
    "# Create feature array\n",
    "features = np.array([[age, daily_steps, sleep_hours, resting_hr, calorie_balance, gender_female]])\n",
    "features_scaled = scaler.transform(features)\n",
    "\n",
    "# Predict cluster label\n",
    "predicted_cluster = clf.predict(features_scaled)[0]\n",
    "\n",
    "# Map to fitness label\n",
    "predicted_label = label_map[predicted_cluster]\n",
    "\n",
    "# Print recommendation\n",
    "print(f\"Predicted Fitness Level: {predicted_label}\\n\")\n",
    "print(\"Personalized Recommendation:\")\n",
    "print(recommendations[predicted_label])\n"
   ]
  },
  {
   "cell_type": "code",
   "execution_count": null,
   "id": "1eb08152-2f56-4eca-96f4-9c23ca91bbf2",
   "metadata": {},
   "outputs": [],
   "source": []
  }
 ],
 "metadata": {
  "kernelspec": {
   "display_name": "Python [conda env:base] *",
   "language": "python",
   "name": "conda-base-py"
  },
  "language_info": {
   "codemirror_mode": {
    "name": "ipython",
    "version": 3
   },
   "file_extension": ".py",
   "mimetype": "text/x-python",
   "name": "python",
   "nbconvert_exporter": "python",
   "pygments_lexer": "ipython3",
   "version": "3.12.7"
  }
 },
 "nbformat": 4,
 "nbformat_minor": 5
}
