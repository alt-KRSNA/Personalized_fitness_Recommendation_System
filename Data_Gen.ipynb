{
 "cells": [
  {
   "cell_type": "code",
   "execution_count": 1,
   "id": "0419b5cc-a95d-467a-ab03-23fbe6f75400",
   "metadata": {},
   "outputs": [],
   "source": [
    "import pandas as pd\n",
    "import numpy as np"
   ]
  },
  {
   "cell_type": "code",
   "execution_count": 19,
   "id": "b4ac37f3-0339-4607-8baf-67017ca8026d",
   "metadata": {},
   "outputs": [],
   "source": [
    "np.random.seed(42)\n",
    "\n",
    "n_users = 5000\n",
    "\n",
    "ages = np.random.randint(18,70,size=n_users)\n",
    "gender = np.random.choice(['Male','Female'],size=n_users,p=[0.5,0.5])\n",
    "sleep_hours=np.random.normal(loc=7,scale=10,size=n_users).clip(3,10)\n",
    "daily_steps = np.random.normal(loc=7500, scale=3000, size=n_users).clip(0, 20000)\n",
    "resting_heart_rate = np.random.normal(loc=70, scale=10, size=n_users).clip(45, 100)\n",
    "daily_calorie_balance = np.random.normal(loc=0, scale=500, size=n_users).clip(-1500, 1500)"
   ]
  },
  {
   "cell_type": "code",
   "execution_count": 21,
   "id": "0555e057-4beb-4916-91db-24a4028714d3",
   "metadata": {},
   "outputs": [],
   "source": [
    "df = pd.DataFrame({'age':ages,\n",
    "                   'gender':gender,\n",
    "                   'daily_steps': daily_steps.astype(int),\n",
    "                    'sleep_hours': np.round(sleep_hours, 1),\n",
    "                    'resting_heart_rate': np.round(resting_heart_rate, 1),\n",
    "                    'daily_calorie_balance': np.round(daily_calorie_balance, 1)})"
   ]
  },
  {
   "cell_type": "code",
   "execution_count": 23,
   "id": "b14b4a84-8dff-4589-ace9-168dfb6a9820",
   "metadata": {},
   "outputs": [
    {
     "data": {
      "text/html": [
       "<div>\n",
       "<style scoped>\n",
       "    .dataframe tbody tr th:only-of-type {\n",
       "        vertical-align: middle;\n",
       "    }\n",
       "\n",
       "    .dataframe tbody tr th {\n",
       "        vertical-align: top;\n",
       "    }\n",
       "\n",
       "    .dataframe thead th {\n",
       "        text-align: right;\n",
       "    }\n",
       "</style>\n",
       "<table border=\"1\" class=\"dataframe\">\n",
       "  <thead>\n",
       "    <tr style=\"text-align: right;\">\n",
       "      <th></th>\n",
       "      <th>age</th>\n",
       "      <th>gender</th>\n",
       "      <th>daily_steps</th>\n",
       "      <th>sleep_hours</th>\n",
       "      <th>resting_heart_rate</th>\n",
       "      <th>daily_calorie_balance</th>\n",
       "    </tr>\n",
       "  </thead>\n",
       "  <tbody>\n",
       "    <tr>\n",
       "      <th>0</th>\n",
       "      <td>56</td>\n",
       "      <td>Female</td>\n",
       "      <td>5872</td>\n",
       "      <td>10.0</td>\n",
       "      <td>60.2</td>\n",
       "      <td>361.2</td>\n",
       "    </tr>\n",
       "    <tr>\n",
       "      <th>1</th>\n",
       "      <td>69</td>\n",
       "      <td>Male</td>\n",
       "      <td>3365</td>\n",
       "      <td>3.0</td>\n",
       "      <td>75.2</td>\n",
       "      <td>96.9</td>\n",
       "    </tr>\n",
       "    <tr>\n",
       "      <th>2</th>\n",
       "      <td>46</td>\n",
       "      <td>Female</td>\n",
       "      <td>7440</td>\n",
       "      <td>7.3</td>\n",
       "      <td>68.5</td>\n",
       "      <td>107.6</td>\n",
       "    </tr>\n",
       "    <tr>\n",
       "      <th>3</th>\n",
       "      <td>32</td>\n",
       "      <td>Male</td>\n",
       "      <td>3631</td>\n",
       "      <td>10.0</td>\n",
       "      <td>72.5</td>\n",
       "      <td>-461.6</td>\n",
       "    </tr>\n",
       "    <tr>\n",
       "      <th>4</th>\n",
       "      <td>60</td>\n",
       "      <td>Female</td>\n",
       "      <td>9292</td>\n",
       "      <td>4.4</td>\n",
       "      <td>77.1</td>\n",
       "      <td>-146.9</td>\n",
       "    </tr>\n",
       "  </tbody>\n",
       "</table>\n",
       "</div>"
      ],
      "text/plain": [
       "   age  gender  daily_steps  sleep_hours  resting_heart_rate  \\\n",
       "0   56  Female         5872         10.0                60.2   \n",
       "1   69    Male         3365          3.0                75.2   \n",
       "2   46  Female         7440          7.3                68.5   \n",
       "3   32    Male         3631         10.0                72.5   \n",
       "4   60  Female         9292          4.4                77.1   \n",
       "\n",
       "   daily_calorie_balance  \n",
       "0                  361.2  \n",
       "1                   96.9  \n",
       "2                  107.6  \n",
       "3                 -461.6  \n",
       "4                 -146.9  "
      ]
     },
     "execution_count": 23,
     "metadata": {},
     "output_type": "execute_result"
    }
   ],
   "source": [
    "df.head()"
   ]
  },
  {
   "cell_type": "code",
   "execution_count": 25,
   "id": "cdc09995-11d3-48b0-be74-278a84d7c354",
   "metadata": {},
   "outputs": [],
   "source": [
    "df.to_csv('health_data.csv',index = False)"
   ]
  },
  {
   "cell_type": "code",
   "execution_count": null,
   "id": "6de24401-8966-4080-8b52-b585a4e22e95",
   "metadata": {},
   "outputs": [],
   "source": []
  }
 ],
 "metadata": {
  "kernelspec": {
   "display_name": "Python [conda env:base] *",
   "language": "python",
   "name": "conda-base-py"
  },
  "language_info": {
   "codemirror_mode": {
    "name": "ipython",
    "version": 3
   },
   "file_extension": ".py",
   "mimetype": "text/x-python",
   "name": "python",
   "nbconvert_exporter": "python",
   "pygments_lexer": "ipython3",
   "version": "3.12.7"
  }
 },
 "nbformat": 4,
 "nbformat_minor": 5
}
